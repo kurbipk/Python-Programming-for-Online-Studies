{
 "cells": [
  {
   "cell_type": "code",
   "execution_count": 1,
   "metadata": {},
   "outputs": [
    {
     "name": "stdout",
     "output_type": "stream",
     "text": [
      "Enter marks of Maths:92\n",
      "Enter marks of English:80\n",
      "Enter marks of Urdu:72\n",
      "Enter marks of Computer:63\n",
      "Enter marks of Physics: 90\n",
      "Total Marks 397\n",
      "Average Marks :79.4\n",
      "The Grade is: B+\n"
     ]
    }
   ],
   "source": [
    "#Programmer: Majid Rasheed\n",
    "#Calculate Take input of 5 sunjects, total them and generate marks sheet using grades.\n",
    "\n",
    "Maths = input(\"Enter marks of Maths:\")\n",
    "English =  input(\"Enter marks of English:\")\n",
    "Urdu = input(\"Enter marks of Urdu:\")\n",
    "Computer = input(\"Enter marks of Computer:\")\n",
    "Physics = input(\"Enter marks of Physics: \")\n",
    "total_marks = int(Maths) + int(English) + int(Urdu) + int(Computer) + int(Physics)\n",
    "print(\"Total Marks \" + str(total_marks))\n",
    "average_marks = (total_marks*100)/500\n",
    "print(\"Average Marks :\" + str(average_marks))\n",
    "if average_marks >= 90:\n",
    "\tprint(\"The Grade is: A+\")\n",
    "elif average_marks >= 80:\n",
    "\tprint(\"The Grade is: A\")\n",
    "elif average_marks >= 70:\n",
    "\tprint(\"The Grade is: B+\")\n",
    "elif average_marks >= 60:\n",
    "\tprint(\"The Grade is: B\")\n",
    "elif average_marks>=50:\n",
    "\tprint(\"The Grade is: C\")\n",
    "\n",
    "    "
   ]
  },
  {
   "cell_type": "code",
   "execution_count": 2,
   "metadata": {},
   "outputs": [
    {
     "name": "stdout",
     "output_type": "stream",
     "text": [
      "Enter a Number :3\n",
      "Number is ODD\n"
     ]
    }
   ],
   "source": [
    "#Programmer: Majid Rasheed\n",
    "#Input a number and identify whether it is Even or Odd.\n",
    "\n",
    "numb = input(\"Enter a Number :\")\n",
    "nature = int(numb) % 2\n",
    "#print(nature)\n",
    "if nature == 1:\n",
    "\tprint(\"Number is ODD\")\n",
    "if nature == 0:\n",
    "\tprint(\"Number is EVEN\")\n"
   ]
  },
  {
   "cell_type": "code",
   "execution_count": 3,
   "metadata": {},
   "outputs": [
    {
     "name": "stdout",
     "output_type": "stream",
     "text": [
      "['honda', 'yamaha', 'suzuki', 'powerstar']\n"
     ]
    }
   ],
   "source": [
    "#Programmer: Majid Rasheed\n",
    "#Print length of list\n",
    "\n",
    "motor_bike = ['honda', 'yamaha', 'suzuki', 'powerstar']\n",
    "print(motor_bike)\n"
   ]
  },
  {
   "cell_type": "code",
   "execution_count": 4,
   "metadata": {},
   "outputs": [
    {
     "name": "stdout",
     "output_type": "stream",
     "text": [
      "Sum of all elements in List : 15\n"
     ]
    }
   ],
   "source": [
    "#Programmer: Majid Rasheed\n",
    "#Write a Python program to sum all the numeric items in a list?\n",
    "\n",
    "list1 = [1,2,3,4,5]\n",
    "total = sum(list1)\n",
    "print(\"Sum of all elements in List :\", total)\n"
   ]
  },
  {
   "cell_type": "code",
   "execution_count": 5,
   "metadata": {},
   "outputs": [
    {
     "name": "stdout",
     "output_type": "stream",
     "text": [
      "Largest Number in the List : 29\n"
     ]
    }
   ],
   "source": [
    "#Programmer: Majid Rasheed\n",
    "#Write a Python program to get the largest number from a numeric list.\n",
    "\n",
    "list1 = [1,2,29,4,5]\n",
    "total = sum(list1)\n",
    "print(\"Largest Number in the List :\", max(list1))"
   ]
  },
  {
   "cell_type": "code",
   "execution_count": 6,
   "metadata": {},
   "outputs": [
    {
     "name": "stdout",
     "output_type": "stream",
     "text": [
      "[1, 1, 2, 3]\n"
     ]
    }
   ],
   "source": [
    "#Programmer: Majid Rasheed\n",
    "#prints out all the elements of the list that are less than 5.\n",
    "a = [1, 1, 2, 3, 5, 8, 13, 21, 34, 55, 89] \n",
    "less_number = a[0:4]\n",
    "print(less_number)"
   ]
  },
  {
   "cell_type": "code",
   "execution_count": null,
   "metadata": {},
   "outputs": [],
   "source": []
  }
 ],
 "metadata": {
  "kernelspec": {
   "display_name": "Python 3",
   "language": "python",
   "name": "python3"
  },
  "language_info": {
   "codemirror_mode": {
    "name": "ipython",
    "version": 3
   },
   "file_extension": ".py",
   "mimetype": "text/x-python",
   "name": "python",
   "nbconvert_exporter": "python",
   "pygments_lexer": "ipython3",
   "version": "3.7.4"
  }
 },
 "nbformat": 4,
 "nbformat_minor": 2
}
