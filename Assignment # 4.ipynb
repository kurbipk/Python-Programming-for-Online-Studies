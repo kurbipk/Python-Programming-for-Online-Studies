{
 "cells": [
  {
   "cell_type": "code",
   "execution_count": 1,
   "metadata": {},
   "outputs": [
    {
     "name": "stdout",
     "output_type": "stream",
     "text": [
      "{'first name': 'Majid', 'last name': 'Rasheed', 'age': 35, 'city': 'karachi'}\n",
      "{'first name': 'Majid', 'last name': 'Rasheed', 'age': 35, 'city': 'karachi', 'qualification': 'MBA'}\n",
      "{'first name': 'Majid', 'last name': 'Rasheed', 'age': 35, 'city': 'karachi', 'qualification': 'High Academic Level'}\n",
      "{'first name': 'Majid', 'last name': 'Rasheed', 'age': 35, 'city': 'karachi'}\n"
     ]
    }
   ],
   "source": [
    "# Programmer:  Majid Rasheed\n",
    "# Use a dictionary to store information about a person you know\n",
    "\n",
    "friend = {\n",
    "\"first name\":\"Majid\",\n",
    "\"last name\":\"Rasheed\",\n",
    "\"age\":35,\n",
    "\"city\":\"karachi\",\n",
    "}\n",
    "\n",
    "#Print each piece of information stored in your dictionary\n",
    "\n",
    "print(friend)\n",
    "\n",
    "#Add a new key value pair about qualification & print\n",
    "\n",
    "friend[\"qualification\"] = \"MBA\"\n",
    "\n",
    "print(friend)\n",
    "\n",
    "#update the qualification value to high academic level then delete it.\n",
    "\n",
    "friend[\"qualification\"] = \"High Academic Level\"\n",
    "\n",
    "print(friend)\n",
    "\n",
    "del friend[\"qualification\"]\n",
    "\n",
    "print(friend)\n",
    "\n"
   ]
  },
  {
   "cell_type": "code",
   "execution_count": 2,
   "metadata": {},
   "outputs": [
    {
     "name": "stdout",
     "output_type": "stream",
     "text": [
      "Lahore\n",
      "{'city': 'Lahore', 'country': 'Pakistan', 'population': '11.13 millions', 'fact': 'City of Gardens'}\n",
      "Beijing\n",
      "{'city': 'Beijing', 'country': 'China', 'population': '21.54 millions', 'fact': 'Tourist City'}\n",
      "Singapore\n",
      "{'city': 'Singapore', 'country': 'Singapore', 'population': '5.6 millions', 'fact': 'Smallest Country'}\n"
     ]
    }
   ],
   "source": [
    "# Programmer:  Majid Rasheed\n",
    "# Make a dictionary called cities\n",
    "\n",
    "cities = [\n",
    "{\n",
    "\"city\":\"Lahore\",\n",
    "\"country\":\"Pakistan\",\n",
    "\"population\":\"11.13 millions\",\n",
    "\"fact\":\"City of Gardens\",\n",
    "},\n",
    "{\n",
    "\"city\":\"Beijing\",\n",
    "\"country\":\"China\",\n",
    "\"population\":\"21.54 millions\",\n",
    "\"fact\":\"Tourist City\",\n",
    "},\n",
    "{\n",
    "\"city\":\"Singapore\",\n",
    "\"country\":\"Singapore\",\n",
    "\"population\":\"5.6 millions\",\n",
    "\"fact\":\"Smallest Country\",\n",
    "},\n",
    "]\n",
    "\n",
    "# Print the name of each city and all of the information you have stored about it.\n",
    "\n",
    "dictionary_to_look_in = cities[0]\n",
    "city_name = dictionary_to_look_in[\"city\"]\n",
    "print(city_name)\n",
    "city_to_look_in = cities[0]\n",
    "print(city_to_look_in)\n",
    "\n",
    "dictionary_to_look_in = cities[1]\n",
    "city_name = dictionary_to_look_in[\"city\"]\n",
    "print(city_name)\n",
    "city_to_look_in = cities[1]\n",
    "print(city_to_look_in)\n",
    "\n",
    "dictionary_to_look_in = cities[2]\n",
    "city_name = dictionary_to_look_in[\"city\"]\n",
    "print(city_name)\n",
    "city_to_look_in = cities[2]\n",
    "print(city_to_look_in)\n"
   ]
  },
  {
   "cell_type": "code",
   "execution_count": 3,
   "metadata": {},
   "outputs": [
    {
     "name": "stdout",
     "output_type": "stream",
     "text": [
      "Enter your Age: 15\n",
      "Your Ticket Price is $15\n"
     ]
    }
   ],
   "source": [
    "# Programmer:  Majid Rasheed\n",
    "# Make a programme of Theater Ticket Cost.\n",
    "\n",
    "a = input(\"Enter your Age: \")\n",
    "a = int(a)\n",
    "\n",
    "if a <= 3:\n",
    "\tprint(\"Your Ticket is Free\")\n",
    "elif a >=3 and a<=12:\n",
    "\tprint(\"Your Ticket Price is $10\")\n",
    "elif a>=13 and a<= 70:\n",
    "\tprint(\"Your Ticket Price is $15\")\n"
   ]
  },
  {
   "cell_type": "code",
   "execution_count": 4,
   "metadata": {},
   "outputs": [
    {
     "name": "stdout",
     "output_type": "stream",
     "text": [
      "Alice in Wonderland\n"
     ]
    }
   ],
   "source": [
    "# Programmer: Majid Rasheed\n",
    "# Write a function called favorite_book() that accepts one parameter, title.\n",
    "\n",
    "def favorite_book():\n",
    "\ttitle = \"Alice in Wonderland\"\n",
    "\tprint(title)\n",
    "\n",
    "# Call the fuction\n",
    "\n",
    "favorite_book()"
   ]
  },
  {
   "cell_type": "code",
   "execution_count": 5,
   "metadata": {},
   "outputs": [
    {
     "name": "stdout",
     "output_type": "stream",
     "text": [
      "2\n",
      "1st Choice: Guess the correct Number: 17\n",
      "Choose the Less Number\n",
      "2nd Choice: Guess the correct Number: 10\n",
      "Choose the Less Number\n",
      "3rd Choice: Guess the correct Number: 2\n",
      "The Correct Number is:  2\n"
     ]
    }
   ],
   "source": [
    "# Programmer: Majid Rasheed\n",
    "# Write a program which randomly generate a number between 1 to 30\n",
    "\n",
    "import random\n",
    "x = random.randint(1,30)\n",
    "print(x)\n",
    "\n",
    "# First input choice to User to identify number\n",
    "\n",
    "a = input(\"1st Choice: Guess the correct Number: \")\n",
    "a= int(a)\n",
    "\n",
    "if a == x:\n",
    "\tprint(\"The Correct Number is: \",a)\n",
    "elif a < x:\n",
    "\tprint(\"Choose the Greater Number\")\n",
    "elif a > x:\n",
    "\tprint(\"Choose the Less Number\")\n",
    "\n",
    "# second input choice to User to identify number\n",
    "\t\n",
    "b = input(\"2nd Choice: Guess the correct Number: \")\n",
    "b= int(b)\n",
    "\n",
    "if b == x:\n",
    "\tprint(\"The Correct Number is: \",b)\n",
    "elif b < x:\n",
    "\tprint(\"Choose the Greater Number\")\n",
    "elif b > x:\n",
    "\tprint(\"Choose the Less Number\")\n",
    "\n",
    "# Third input choice to User to identify number\n",
    "\n",
    "c = input(\"3rd Choice: Guess the correct Number: \")\n",
    "c= int(c)\n",
    "\n",
    "if c == x:\n",
    "\tprint(\"The Correct Number is: \",c)\n",
    "elif c < x:\n",
    "\tprint(\"Choose the Greater Number\")\n",
    "elif c > x:\n",
    "\tprint(\"Choose the Less Number\")"
   ]
  },
  {
   "cell_type": "code",
   "execution_count": null,
   "metadata": {},
   "outputs": [],
   "source": []
  }
 ],
 "metadata": {
  "kernelspec": {
   "display_name": "Python 3",
   "language": "python",
   "name": "python3"
  },
  "language_info": {
   "codemirror_mode": {
    "name": "ipython",
    "version": 3
   },
   "file_extension": ".py",
   "mimetype": "text/x-python",
   "name": "python",
   "nbconvert_exporter": "python",
   "pygments_lexer": "ipython3",
   "version": "3.7.4"
  }
 },
 "nbformat": 4,
 "nbformat_minor": 2
}
