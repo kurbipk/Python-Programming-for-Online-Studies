{
 "cells": [
  {
   "cell_type": "code",
   "execution_count": 1,
   "metadata": {},
   "outputs": [
    {
     "name": "stdout",
     "output_type": "stream",
     "text": [
      "Enter a Number: 8\n",
      "The Factorial of Number is: 40320\n"
     ]
    }
   ],
   "source": [
    "# Programmer:  Majid Rasheed\n",
    "# Python function to calculate the factorial of a number\n",
    "\n",
    "def factorial(n):\n",
    "\tfact = 1\n",
    "\tn = int(n)\n",
    "\tfor i in range(1, n+1):\t\n",
    "\t\tfact = fact * i\n",
    "\tprint(\"The Factorial of Number is: \" + str(fact))\n",
    "\t\t\n",
    "n = input(\"Enter a Number: \")\n",
    "factorial(n)\n"
   ]
  },
  {
   "cell_type": "code",
   "execution_count": null,
   "metadata": {},
   "outputs": [],
   "source": [
    "# Programmer:  Majid Rasheed\n",
    "# Python function that takes a number as a parameter and check the number is prime or not.\n",
    "\n",
    "def prime(num):\n",
    "\tnum = int(num)\n",
    "\tif num > 1:\n",
    "\t\tfor i in range(2, num):\n",
    "\t\t\tif (num % i) == 0:\n",
    "\t\t\t\tprint(num, \"is not a Prime Number\")\n",
    "\t\t\t\tbreak\n",
    "\t\t\telse:\n",
    "\t\t\t\tprint(num, \"is a Prime Number\")\n",
    "\t\t\t\tbreak\n",
    "\t\t\t\t\t\n",
    "num = input(\"Enter a Number: \")\n",
    "prime(num)\n"
   ]
  },
  {
   "cell_type": "code",
   "execution_count": 2,
   "metadata": {},
   "outputs": [
    {
     "name": "stdout",
     "output_type": "stream",
     "text": [
      "Enter a String: madam\n",
      "The string is a palindrome.\n"
     ]
    }
   ],
   "source": [
    "# Programmer:  Majid Rasheed\n",
    "# Python function that checks whether a passed string is palindrome or not.\n",
    "\n",
    "def palindrome(my_str):\n",
    "\trev_str = reversed(my_str)\n",
    "\tif list(my_str) == list(rev_str):\n",
    "\t\tprint(\"The string is a palindrome.\")\n",
    "\telse:\n",
    "\t\tprint(\"The string is not a palindrome.\")\n",
    "\n",
    "my_str = input(\"Enter a String: \")\n",
    "palindrome(my_str)\n"
   ]
  },
  {
   "cell_type": "code",
   "execution_count": 3,
   "metadata": {},
   "outputs": [
    {
     "name": "stdout",
     "output_type": "stream",
     "text": [
      "Upper Case Charaters= 2\n",
      "Lower Case Charaters= 8\n"
     ]
    }
   ],
   "source": [
    "# Programmer:  Majid Rasheed\n",
    "# function that accepts a string and calculate the number of upper case letters and lower case letters\n",
    "\n",
    "def cc(string):\n",
    "\tlc = 0\n",
    "\tuc = 0\n",
    "\tfor i in string:\n",
    "\t\tif i.isupper():\n",
    "\t\t\tuc+=1\n",
    "\t\telif i.islower():\n",
    "\t\t\tlc+=1\n",
    "\tprint(\"Upper Case Charaters=\",uc)\n",
    "\tprint(\"Lower Case Charaters=\",lc)\n",
    "\n",
    "cc('PalinDrome')\n"
   ]
  },
  {
   "cell_type": "code",
   "execution_count": 4,
   "metadata": {},
   "outputs": [
    {
     "name": "stdout",
     "output_type": "stream",
     "text": [
      "2\n",
      "4\n",
      "8\n",
      "16\n"
     ]
    }
   ],
   "source": [
    "# Programmer: Majid Rasheed\n",
    "# Python function to print the even numbers from a given list\n",
    "\n",
    "def evennum():\n",
    "\tlist1 = [1,2,3,4,5,8,13,16]\n",
    "\tfor i in list1:\n",
    "\t\tif (i%2) == 0:\n",
    "\t\t\tprint(i)\n",
    "\n",
    "evennum()\n"
   ]
  },
  {
   "cell_type": "code",
   "execution_count": 5,
   "metadata": {},
   "outputs": [
    {
     "name": "stdout",
     "output_type": "stream",
     "text": [
      "apple\n",
      "banana\n",
      "tooth_paste\n",
      "salt\n",
      "flour\n",
      "rice\n",
      "biscuits\n"
     ]
    }
   ],
   "source": [
    "# Programmer: Majid Rasheed\n",
    "# function which accepts the multiple arguments of user shopping list and print all the items which user bought from market.\n",
    "\n",
    "def shopping(*args):\n",
    "    for x in args:\n",
    "        print (x)\n",
    "\n",
    "shopping(\"apple\",\"banana\",\"tooth_paste\",\"salt\",\"flour\",\"rice\",\"biscuits\")\n"
   ]
  },
  {
   "cell_type": "code",
   "execution_count": null,
   "metadata": {},
   "outputs": [],
   "source": []
  }
 ],
 "metadata": {
  "kernelspec": {
   "display_name": "Python 3",
   "language": "python",
   "name": "python3"
  },
  "language_info": {
   "codemirror_mode": {
    "name": "ipython",
    "version": 3
   },
   "file_extension": ".py",
   "mimetype": "text/x-python",
   "name": "python",
   "nbconvert_exporter": "python",
   "pygments_lexer": "ipython3",
   "version": "3.7.4"
  }
 },
 "nbformat": 4,
 "nbformat_minor": 2
}
