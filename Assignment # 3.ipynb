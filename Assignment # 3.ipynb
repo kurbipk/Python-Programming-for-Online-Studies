{
 "cells": [
  {
   "cell_type": "code",
   "execution_count": 2,
   "metadata": {},
   "outputs": [
    {
     "name": "stdout",
     "output_type": "stream",
     "text": [
      "Enter First Number: 150\n",
      "Enter Second Number: 5\n",
      "Enter the Operator: /\n",
      "The Answer is:  30.0\n"
     ]
    }
   ],
   "source": [
    "#Programmer: Majid Rasheed\n",
    "#Make a calculator using Python with addition , subtraction , multiplication ,division and power.\n",
    "\n",
    "val1 = input(\"Enter First Number: \")\n",
    "val2 = input(\"Enter Second Number: \")\n",
    "val1 = int(val1)\n",
    "val2 = int(val2)\n",
    "\n",
    "operator = input(\"Enter the Operator: \")\n",
    "\n",
    "if operator == \"+\":\n",
    "\tprint(\"The Answer is: \", val1 + val2)\n",
    "\t\n",
    "elif operator == \"-\":\n",
    "\tprint(\"The Answer is: \", val1 - val2)\n",
    "\t\n",
    "elif operator == \"*\":\n",
    "\tprint(\"The Answer is: \", val1 * val2)\n",
    "\n",
    "elif operator == \"/\":\n",
    "\tprint(\"The Answer is: \", val1 / val2)\n",
    "\t\n",
    "elif operator == \"**\":\n",
    "\tprint(\"The Answer is: \", val1 ** val2)\n"
   ]
  },
  {
   "cell_type": "code",
   "execution_count": 18,
   "metadata": {},
   "outputs": [
    {
     "name": "stdout",
     "output_type": "stream",
     "text": [
      "{'name': 'Waleed', 'emp_code': '123', 'subject': 'Computer Science', 'Class': '10', 'City': 'karachi'}\n",
      "The School Teacher name\n",
      "The School Teacher emp_code\n",
      "The School Teacher subject\n",
      "The School Teacher Class\n",
      "The School Teacher City\n",
      "The School Teacher school name\n"
     ]
    }
   ],
   "source": [
    "# Programmer: Majid Rasheed\n",
    "# Write a Python script to add a key to a dictionary\n",
    "\n",
    "school_teachers = {\n",
    "\"name\":\"Waleed\",\n",
    "\"emp_code\":\"123\",\n",
    "\"subject\":\"Computer Science\",\n",
    "\"Class\":\"10\",\n",
    "\"City\":\"karachi\"\n",
    "}\n",
    "# print the current dictionary\n",
    "\n",
    "print(school_teachers)\n",
    "\n",
    "# add the key \"school name\" into dictionary then print keys.\n",
    "\n",
    "school_teachers[\"school name\"] = \"Karachi Public School\"\n",
    "for each_key in school_teachers.keys():\n",
    "\tprint(\"The School Teacher \" + each_key)\n"
   ]
  },
  {
   "cell_type": "code",
   "execution_count": 8,
   "metadata": {},
   "outputs": [
    {
     "name": "stdout",
     "output_type": "stream",
     "text": [
      "1000\n"
     ]
    }
   ],
   "source": [
    "# Programmer:  Majid Rasheed\n",
    "# Write a Python program to sum all the numeric items in a dictionary\n",
    "\n",
    "dict = {'a': 50, 'b':200, 'c':400, 'd': 350}\n",
    "print(sum(dict.values()))\n"
   ]
  },
  {
   "cell_type": "code",
   "execution_count": 17,
   "metadata": {},
   "outputs": [
    {
     "name": "stdout",
     "output_type": "stream",
     "text": [
      "[10, 20, 30, 50, 60, 40, 80]\n"
     ]
    }
   ],
   "source": [
    "# Programmer: Majid Rasheed\n",
    "# program to identify duplicate values from list\n",
    "\n",
    "a = [10,20,30,20,10,50,60,40,80,50,40]\n",
    "\n",
    "dup_items = []\n",
    "for x in a:\n",
    "    if x not in dup_items:\n",
    "        dup_items.append(x)\n",
    "\n",
    "print(dup_items)\n"
   ]
  },
  {
   "cell_type": "code",
   "execution_count": 19,
   "metadata": {},
   "outputs": [
    {
     "name": "stdout",
     "output_type": "stream",
     "text": [
      "['1']\n",
      "The list has Numeric Values\n"
     ]
    }
   ],
   "source": [
    "# Programmer: Majid Rasheed\n",
    "# program to check if there is any numeric value in list using for loop\n",
    "\n",
    "list1 = [1,2,3,9,45,\"python\"]\n",
    "new_list = []\n",
    "for num in list1:\n",
    "\tnew_list.append(str(num))\n",
    "\tprint(new_list)\t\n",
    "\tprint(\"The list has Numeric Values\")\n",
    "\tbreak\n",
    "\t\n"
   ]
  },
  {
   "cell_type": "code",
   "execution_count": 20,
   "metadata": {},
   "outputs": [
    {
     "name": "stdout",
     "output_type": "stream",
     "text": [
      "This key already exist in dictionary\n"
     ]
    }
   ],
   "source": [
    "# Programmer: Majid Rasheed\n",
    "# script to check if a given key already exists in a dictionary\n",
    "\n",
    "school_teachers = {\n",
    "\"name\":\"Waleed\",\n",
    "\"emp_code\":\"123\",\n",
    "\"subject\":\"Computer Science\",\n",
    "\"Class\":\"10\",\n",
    "\"City\":\"karachi\"\n",
    "}\n",
    "if school_teachers[\"name\"] == \"Waleed\":\n",
    "\t\tprint(\"This key already exist in dictionary\")\n",
    "else:\n",
    "\tprint(\"This key doesn't exist in dictionary\")"
   ]
  },
  {
   "cell_type": "code",
   "execution_count": null,
   "metadata": {},
   "outputs": [],
   "source": []
  }
 ],
 "metadata": {
  "kernelspec": {
   "display_name": "Python 3",
   "language": "python",
   "name": "python3"
  },
  "language_info": {
   "codemirror_mode": {
    "name": "ipython",
    "version": 3
   },
   "file_extension": ".py",
   "mimetype": "text/x-python",
   "name": "python",
   "nbconvert_exporter": "python",
   "pygments_lexer": "ipython3",
   "version": "3.7.4"
  }
 },
 "nbformat": 4,
 "nbformat_minor": 2
}
