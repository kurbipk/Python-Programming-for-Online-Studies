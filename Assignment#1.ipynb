{
 "cells": [
  {
   "cell_type": "code",
   "execution_count": 1,
   "metadata": {},
   "outputs": [
    {
     "name": "stdout",
     "output_type": "stream",
     "text": [
      "Current date and time : \n",
      "2019-11-15 13:37:52\n"
     ]
    }
   ],
   "source": [
    "#Programmer: Majid Rasheed\n",
    "#Display current Date & Time\n",
    "import datetime\n",
    "now = datetime.datetime.now()\n",
    "print (\"Current date and time : \")\n",
    "print (now.strftime(\"%Y-%m-%d %H:%M:%S\"))\n"
   ]
  },
  {
   "cell_type": "code",
   "execution_count": 2,
   "metadata": {},
   "outputs": [
    {
     "name": "stdout",
     "output_type": "stream",
     "text": [
      "Enter your First Name:Majid\n",
      "Enter Last Name:Rasheed\n",
      "Rasheed Majid\n"
     ]
    }
   ],
   "source": [
    "#Programmer: Majid Rasheed\n",
    "#Input first & last name and print in reverse order\n",
    "\n",
    "first_name = input(\"Enter your First Name:\")\n",
    "\n",
    "last_name= input(\"Enter Last Name:\")\n",
    "\n",
    "print(last_name + \" \" + first_name)\n"
   ]
  },
  {
   "cell_type": "code",
   "execution_count": 3,
   "metadata": {},
   "outputs": [
    {
     "name": "stdout",
     "output_type": "stream",
     "text": [
      "Enter First Number:1\n",
      "Enter Second Number:2\n",
      "3.0\n"
     ]
    }
   ],
   "source": [
    "#Programmer: Majid Rasheed\n",
    "#Input two number and add them\n",
    "\n",
    "first_numb = float(input(\"Enter First Number:\"))\n",
    "\n",
    "second_numb = float(input(\"Enter Second Number:\"))\n",
    "\n",
    "sum = first_numb + second_numb\n",
    "\n",
    "print(sum)\n"
   ]
  },
  {
   "cell_type": "code",
   "execution_count": 4,
   "metadata": {},
   "outputs": [
    {
     "name": "stdout",
     "output_type": "stream",
     "text": [
      "Input the radius of the circle : 2\n",
      "The area of the circle with radius 2.0 is: 12.566370614359172\n"
     ]
    }
   ],
   "source": [
    "#Programmer: Majid Rasheed\n",
    "#Calculate Area of Circle by entering radius.\n",
    "\n",
    "from math import pi\n",
    "\n",
    "radius = float(input (\"Input the radius of the circle : \"))\n",
    "\n",
    "print (\"The area of the circle with radius \" + str(radius) + \" is: \" + str(pi * radius**2))\n"
   ]
  },
  {
   "cell_type": "code",
   "execution_count": 5,
   "metadata": {},
   "outputs": [
    {
     "name": "stdout",
     "output_type": "stream",
     "text": [
      "Twinkle, twinkle, little star,\n",
      "\tHow I wonder what you are!\n",
      "\t\tUp above the world so high,\n",
      "\t\tLike a diamond in the sky.\n",
      "Twinkle, twinkle, little star,\n",
      "\tHow I wonder what you are!\n"
     ]
    }
   ],
   "source": [
    "#Programmer: Majid Rasheed\n",
    "#Writing string in a specific format\n",
    "print(\"Twinkle, twinkle, little star,\")\n",
    "\n",
    "print(\"\\tHow I wonder what you are!\")\n",
    "\n",
    "print(\"\\t\\tUp above the world so high,\")\n",
    "\n",
    "print(\"\\t\\tLike a diamond in the sky.\")\n",
    "\n",
    "print(\"Twinkle, twinkle, little star,\")\n",
    "\n",
    "print(\"\\tHow I wonder what you are!\")\n"
   ]
  },
  {
   "cell_type": "code",
   "execution_count": 6,
   "metadata": {},
   "outputs": [
    {
     "name": "stdout",
     "output_type": "stream",
     "text": [
      "Python version\n",
      "3.7.4 (default, Aug  9 2019, 18:34:13) [MSC v.1915 64 bit (AMD64)]\n",
      "Version info.\n",
      "sys.version_info(major=3, minor=7, micro=4, releaselevel='final', serial=0)\n"
     ]
    }
   ],
   "source": [
    "#Programmer: Majid Rasheed\n",
    "#Display current version of Python\n",
    "import sys\n",
    "print(\"Python version\")\n",
    "print (sys.version)\n",
    "print(\"Version info.\")\n",
    "print (sys.version_info)\n"
   ]
  },
  {
   "cell_type": "code",
   "execution_count": null,
   "metadata": {},
   "outputs": [],
   "source": []
  }
 ],
 "metadata": {
  "kernelspec": {
   "display_name": "Python 3",
   "language": "python",
   "name": "python3"
  },
  "language_info": {
   "codemirror_mode": {
    "name": "ipython",
    "version": 3
   },
   "file_extension": ".py",
   "mimetype": "text/x-python",
   "name": "python",
   "nbconvert_exporter": "python",
   "pygments_lexer": "ipython3",
   "version": "3.7.4"
  }
 },
 "nbformat": 4,
 "nbformat_minor": 2
}
